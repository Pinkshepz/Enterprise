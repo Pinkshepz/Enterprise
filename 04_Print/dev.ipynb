{
 "cells": [
  {
   "attachments": {},
   "cell_type": "markdown",
   "metadata": {},
   "source": [
    "# **PINKSHEPZ'S Enterprise Project (PROJECT 7)**\n",
    "## **SECTION 04: PRINT**\n",
    "## Dataset\n",
    "1. *Candlestick price*: XAUUSD TF 1D - 12 Oct 2020 to 8 May 2023\n",
    "2. *Economic figure report*: FOREX FACTORY TF 1D - 13 Oct 2020 to 31 Dec 2022\n",
    "\n",
    "## Print\n",
    "1. Summary of candlestick chart and economic news daily"
   ]
  },
  {
   "attachments": {},
   "cell_type": "markdown",
   "metadata": {},
   "source": [
    "## **00 IMPORT & CONFIGURATION**"
   ]
  },
  {
   "attachments": {},
   "cell_type": "markdown",
   "metadata": {},
   "source": [
    "### **0.1 Install**"
   ]
  },
  {
   "cell_type": "code",
   "execution_count": 1,
   "metadata": {},
   "outputs": [],
   "source": [
    "# %pip install tqdm"
   ]
  },
  {
   "attachments": {},
   "cell_type": "markdown",
   "metadata": {},
   "source": [
    "### **0.2 Import**"
   ]
  },
  {
   "cell_type": "code",
   "execution_count": 2,
   "metadata": {},
   "outputs": [],
   "source": [
    "# import libraries\n",
    "import numpy as np\n",
    "import pandas as pd\n",
    "import matplotlib.pyplot as plt\n",
    "import matplotlib.font_manager as fm\n",
    "import plotly.graph_objects as go\n",
    "import datetime as dt\n",
    "\n",
    "from tqdm import tqdm"
   ]
  },
  {
   "attachments": {},
   "cell_type": "markdown",
   "metadata": {},
   "source": [
    "### **0.3 Global Configuration & Variables**"
   ]
  },
  {
   "cell_type": "code",
   "execution_count": 3,
   "metadata": {},
   "outputs": [
    {
     "name": "stderr",
     "output_type": "stream",
     "text": [
      "UsageError: Line magic function `%%matplotlib` not found.\n"
     ]
    }
   ],
   "source": [
    "# configure fonts\n",
    "FONT_PATH = \"/workspaces/Enterprise/00_Pinksheepkit/fonts/poppins/Poppins-{0}.ttf\"\n",
    "# FONT_PATH = \"c://Users//Art//Documents//A1-AspirePC//CS Project//07_Enterprise//Enterprise//00_Pinksheepkit//fonts//poppins//Poppins-{0}.ttf\"\n",
    "HEADING = \"Bold\"\n",
    "LABEL = \"Regular\"\n",
    "CONTENT = \"Light\"\n",
    "\n",
    "# font properties **kwargs -> usage: plt.some_method(**H_FONT)\n",
    "H_FONT = {\"fontproperties\": fm.FontProperties(fname=FONT_PATH.format(HEADING)), \"size\": 12}\n",
    "L_FONT = {\"fontproperties\": fm.FontProperties(fname=FONT_PATH.format(LABEL)), \"size\": 10}\n",
    "C_FONT = {\"fontproperties\": fm.FontProperties(fname=FONT_PATH.format(CONTENT)), \"size\": 8}\n",
    "\n",
    "# configure plt rc params\n",
    "%%matplotlib inline\n",
    "plt.rcParams['figure.dpi'] = 300"
   ]
  },
  {
   "cell_type": "code",
   "execution_count": 4,
   "metadata": {},
   "outputs": [],
   "source": [
    "# color palattes for candlestick chart\n",
    "C_BULL = \"#51A299\"\n",
    "C_BEAR = \"#DD5E57\"\n",
    "\n",
    "C_SLATE500 = '#64748B'\n",
    "\n",
    "# color from tailwind.css HSB500 https://tailwindcss.com/docs/customizing-colors\n",
    "TRI_PALETTE = ['#F43F5E', '#F59E0B', '#6366F1'] # color theme for plotting: red yellow blue\n",
    "UNI_PALETTE = ['#EF4444', \"#F59E0B\", \"#FDE047\", \"#84CC16\", \n",
    "               \"#14B8A6\", \"#0EA5E9\", \"#3B82F6\", \"#8B5CF6\", \n",
    "               \"#D946EF\", \"#64748B\", \"#44403C\"] # rainbow color theme\n",
    "# HSB600\n",
    "WEEK_PALETTE = {'MON': '#CA8A04', \n",
    "                'TUE': '#C026D3', \n",
    "                'WED': '#0D9488', \n",
    "                'THU': '#EA580C', \n",
    "                'FRI': '#0284C7', \n",
    "                'SAT': '#4F46E5',\n",
    "                'SUN': '#E11D48'} # week of the day color"
   ]
  },
  {
   "cell_type": "code",
   "execution_count": 5,
   "metadata": {},
   "outputs": [],
   "source": [
    "# global variables\n",
    "TIME_ZONE_UTC = 7\n",
    "QUOTE = \"XAUUSD SPOT 1H\""
   ]
  },
  {
   "attachments": {},
   "cell_type": "markdown",
   "metadata": {},
   "source": [
    "## **01 DATA PREPARATION**"
   ]
  },
  {
   "attachments": {},
   "cell_type": "markdown",
   "metadata": {},
   "source": [
    "### **1.1 Import Dataset**"
   ]
  },
  {
   "cell_type": "code",
   "execution_count": 6,
   "metadata": {},
   "outputs": [],
   "source": [
    "# path of two datasets\n",
    "PATH_XAUUSD = '/workspaces/Enterprise/03_Analytics/input/XAUUSD-1H_220103_230503.csv'\n",
    "PATH_FOREX = '/workspaces/Enterprise/03_Analytics/input/FOREX_311222_131020.csv'"
   ]
  },
  {
   "cell_type": "code",
   "execution_count": 7,
   "metadata": {},
   "outputs": [
    {
     "name": "stdout",
     "output_type": "stream",
     "text": [
      "XAUUSD: (8271, 6)\n",
      "FOREX: (10415, 7)\n"
     ]
    }
   ],
   "source": [
    "# read csv\n",
    "DF_XAUUSD = pd.read_csv(PATH_XAUUSD, parse_dates=['time']).drop(columns=['Unnamed: 0'])\n",
    "DF_FOREX = pd.read_csv(PATH_FOREX, parse_dates=[['date', 'time']]).drop(columns=['Unnamed: 0'])\n",
    "\n",
    "DF_XAUUSD.rename(columns={'time': 'datetime'}, inplace=True)\n",
    "DF_FOREX.rename(columns={'date_time': 'datetime'}, inplace=True)\n",
    "\n",
    "# get shape\n",
    "print(f\"XAUUSD: {DF_XAUUSD.shape}\")\n",
    "print(f\"FOREX: {DF_FOREX.shape}\")"
   ]
  },
  {
   "cell_type": "code",
   "execution_count": 8,
   "metadata": {},
   "outputs": [
    {
     "data": {
      "text/html": [
       "<div>\n",
       "<style scoped>\n",
       "    .dataframe tbody tr th:only-of-type {\n",
       "        vertical-align: middle;\n",
       "    }\n",
       "\n",
       "    .dataframe tbody tr th {\n",
       "        vertical-align: top;\n",
       "    }\n",
       "\n",
       "    .dataframe thead th {\n",
       "        text-align: right;\n",
       "    }\n",
       "</style>\n",
       "<table border=\"1\" class=\"dataframe\">\n",
       "  <thead>\n",
       "    <tr style=\"text-align: right;\">\n",
       "      <th></th>\n",
       "      <th>datetime</th>\n",
       "      <th>open</th>\n",
       "      <th>high</th>\n",
       "      <th>low</th>\n",
       "      <th>close</th>\n",
       "      <th>%Change</th>\n",
       "    </tr>\n",
       "  </thead>\n",
       "  <tbody>\n",
       "    <tr>\n",
       "      <th>0</th>\n",
       "      <td>2022-01-03 05:00:00</td>\n",
       "      <td>1827.10</td>\n",
       "      <td>1829.03</td>\n",
       "      <td>1827.10</td>\n",
       "      <td>1829.03</td>\n",
       "      <td>0.1056</td>\n",
       "    </tr>\n",
       "    <tr>\n",
       "      <th>1</th>\n",
       "      <td>2022-01-03 06:00:00</td>\n",
       "      <td>1828.53</td>\n",
       "      <td>1831.57</td>\n",
       "      <td>1827.54</td>\n",
       "      <td>1827.98</td>\n",
       "      <td>-0.0301</td>\n",
       "    </tr>\n",
       "    <tr>\n",
       "      <th>2</th>\n",
       "      <td>2022-01-03 07:00:00</td>\n",
       "      <td>1828.20</td>\n",
       "      <td>1830.90</td>\n",
       "      <td>1826.66</td>\n",
       "      <td>1830.08</td>\n",
       "      <td>0.1028</td>\n",
       "    </tr>\n",
       "    <tr>\n",
       "      <th>3</th>\n",
       "      <td>2022-01-03 08:00:00</td>\n",
       "      <td>1830.13</td>\n",
       "      <td>1831.57</td>\n",
       "      <td>1826.44</td>\n",
       "      <td>1828.70</td>\n",
       "      <td>-0.0781</td>\n",
       "    </tr>\n",
       "    <tr>\n",
       "      <th>4</th>\n",
       "      <td>2022-01-03 09:00:00</td>\n",
       "      <td>1828.64</td>\n",
       "      <td>1828.81</td>\n",
       "      <td>1824.67</td>\n",
       "      <td>1825.99</td>\n",
       "      <td>-0.1449</td>\n",
       "    </tr>\n",
       "  </tbody>\n",
       "</table>\n",
       "</div>"
      ],
      "text/plain": [
       "             datetime     open     high      low    close  %Change\n",
       "0 2022-01-03 05:00:00  1827.10  1829.03  1827.10  1829.03   0.1056\n",
       "1 2022-01-03 06:00:00  1828.53  1831.57  1827.54  1827.98  -0.0301\n",
       "2 2022-01-03 07:00:00  1828.20  1830.90  1826.66  1830.08   0.1028\n",
       "3 2022-01-03 08:00:00  1830.13  1831.57  1826.44  1828.70  -0.0781\n",
       "4 2022-01-03 09:00:00  1828.64  1828.81  1824.67  1825.99  -0.1449"
      ]
     },
     "execution_count": 8,
     "metadata": {},
     "output_type": "execute_result"
    }
   ],
   "source": [
    "# preview dataset 1 (XAUUSD)\n",
    "DF_XAUUSD.head()"
   ]
  },
  {
   "cell_type": "code",
   "execution_count": 9,
   "metadata": {},
   "outputs": [
    {
     "data": {
      "text/html": [
       "<div>\n",
       "<style scoped>\n",
       "    .dataframe tbody tr th:only-of-type {\n",
       "        vertical-align: middle;\n",
       "    }\n",
       "\n",
       "    .dataframe tbody tr th {\n",
       "        vertical-align: top;\n",
       "    }\n",
       "\n",
       "    .dataframe thead th {\n",
       "        text-align: right;\n",
       "    }\n",
       "</style>\n",
       "<table border=\"1\" class=\"dataframe\">\n",
       "  <thead>\n",
       "    <tr style=\"text-align: right;\">\n",
       "      <th></th>\n",
       "      <th>datetime</th>\n",
       "      <th>currency</th>\n",
       "      <th>impact</th>\n",
       "      <th>event</th>\n",
       "      <th>actual</th>\n",
       "      <th>forecast</th>\n",
       "      <th>previous</th>\n",
       "    </tr>\n",
       "  </thead>\n",
       "  <tbody>\n",
       "    <tr>\n",
       "      <th>0</th>\n",
       "      <td>2022-12-31 8:30</td>\n",
       "      <td>CNY</td>\n",
       "      <td>low</td>\n",
       "      <td>Manufacturing PMI</td>\n",
       "      <td>47.0</td>\n",
       "      <td>48.0</td>\n",
       "      <td>48.0</td>\n",
       "    </tr>\n",
       "    <tr>\n",
       "      <th>1</th>\n",
       "      <td>2022-12-30 14:00</td>\n",
       "      <td>GBP</td>\n",
       "      <td>low</td>\n",
       "      <td>Nationwide HPI m/m</td>\n",
       "      <td>-0.1%</td>\n",
       "      <td>-0.7%</td>\n",
       "      <td>-1.4%</td>\n",
       "    </tr>\n",
       "    <tr>\n",
       "      <th>2</th>\n",
       "      <td>2022-12-30</td>\n",
       "      <td>EUR</td>\n",
       "      <td>low</td>\n",
       "      <td>Spanish Flash CPI y/y</td>\n",
       "      <td>5.8%</td>\n",
       "      <td>6.1%</td>\n",
       "      <td>6.8%</td>\n",
       "    </tr>\n",
       "    <tr>\n",
       "      <th>3</th>\n",
       "      <td>2022-12-30 21:45</td>\n",
       "      <td>USD</td>\n",
       "      <td>medium</td>\n",
       "      <td>Chicago PMI</td>\n",
       "      <td>44.9</td>\n",
       "      <td>40.1</td>\n",
       "      <td>37.2</td>\n",
       "    </tr>\n",
       "    <tr>\n",
       "      <th>4</th>\n",
       "      <td>2022-12-30</td>\n",
       "      <td>CNY</td>\n",
       "      <td>low</td>\n",
       "      <td>Non-Manufacturing PMI</td>\n",
       "      <td>41.6</td>\n",
       "      <td>45.8</td>\n",
       "      <td>46.7</td>\n",
       "    </tr>\n",
       "  </tbody>\n",
       "</table>\n",
       "</div>"
      ],
      "text/plain": [
       "           datetime currency  impact                  event actual forecast   \n",
       "0   2022-12-31 8:30      CNY     low      Manufacturing PMI   47.0     48.0  \\\n",
       "1  2022-12-30 14:00      GBP     low     Nationwide HPI m/m  -0.1%    -0.7%   \n",
       "2      2022-12-30        EUR     low  Spanish Flash CPI y/y   5.8%     6.1%   \n",
       "3  2022-12-30 21:45      USD  medium            Chicago PMI   44.9     40.1   \n",
       "4      2022-12-30        CNY     low  Non-Manufacturing PMI   41.6     45.8   \n",
       "\n",
       "  previous  \n",
       "0     48.0  \n",
       "1    -1.4%  \n",
       "2     6.8%  \n",
       "3     37.2  \n",
       "4     46.7  "
      ]
     },
     "execution_count": 9,
     "metadata": {},
     "output_type": "execute_result"
    }
   ],
   "source": [
    "# preview dataset 2 (FOREX)\n",
    "DF_FOREX.head()"
   ]
  },
  {
   "attachments": {},
   "cell_type": "markdown",
   "metadata": {},
   "source": [
    "### **1.2 Check Data Type**"
   ]
  },
  {
   "cell_type": "code",
   "execution_count": 10,
   "metadata": {},
   "outputs": [],
   "source": [
    "# change dataype of DF_XAUUSD\n",
    "for col in DF_XAUUSD.columns[1:]:\n",
    "    DF_XAUUSD[col] = DF_XAUUSD[col].astype('float64')"
   ]
  },
  {
   "cell_type": "code",
   "execution_count": 11,
   "metadata": {},
   "outputs": [
    {
     "name": "stdout",
     "output_type": "stream",
     "text": [
      "<class 'pandas.core.frame.DataFrame'>\n",
      "RangeIndex: 8271 entries, 0 to 8270\n",
      "Data columns (total 6 columns):\n",
      " #   Column    Non-Null Count  Dtype         \n",
      "---  ------    --------------  -----         \n",
      " 0   datetime  8271 non-null   datetime64[ns]\n",
      " 1   open      8271 non-null   float64       \n",
      " 2   high      8271 non-null   float64       \n",
      " 3   low       8271 non-null   float64       \n",
      " 4   close     8271 non-null   float64       \n",
      " 5   %Change   8271 non-null   float64       \n",
      "dtypes: datetime64[ns](1), float64(5)\n",
      "memory usage: 387.8 KB\n"
     ]
    }
   ],
   "source": [
    "# check data type of DF_XAUUSD\n",
    "DF_XAUUSD.info()"
   ]
  },
  {
   "cell_type": "code",
   "execution_count": 12,
   "metadata": {},
   "outputs": [],
   "source": [
    "## DF_FOREX\n",
    "DF_FOREX[\"datetime\"] = pd.to_datetime(DF_XAUUSD[\"datetime\"], format='%d-%b-%Y, %H:%M:%S')\n",
    "DF_FOREX['currency'] = DF_FOREX['currency'].astype('category')\n",
    "DF_FOREX['impact'] = DF_FOREX['impact'].astype('category')\n",
    "DF_FOREX['event'] = DF_FOREX['event'].astype('category')"
   ]
  },
  {
   "cell_type": "code",
   "execution_count": 13,
   "metadata": {},
   "outputs": [],
   "source": [
    "# define function to handle various nember formats i.e. 100K 50%\n",
    "def handle_number_format(number: str) -> list:\n",
    "    \"\"\" Separate value and unit of given number formats\n",
    "    \n",
    "    Arg:\n",
    "        1. number: str i.e. 6.5%, 100K, 2.8\n",
    "\n",
    "    Out:\n",
    "        1. list: <[float, str | None]> i.e. [6.5, \"%\"], [100, \"K\"], [2.8, None]\n",
    " \n",
    "    This is a cat -> 🐈\n",
    "    \"\"\"\n",
    "\n",
    "    # case 1: na\n",
    "    if number == '':\n",
    "        return [None, None]\n",
    "    number = str(number)\n",
    "    # case 2: % value\n",
    "    if (number[-1] == '%') & (number.lstrip('-')[0].isnumeric() == True):\n",
    "        return [float(number.rstrip('%')), '%']\n",
    "    # case 3: 1K 1M 1B 1T unit\n",
    "    if (number[-1].isalpha() == True) & (number.lstrip('-')[0].isnumeric() == True):\n",
    "        return [float(str(number)[:-1]), number[-1]]\n",
    "    # case 4: ordinary numbers\n",
    "    if number.replace(',', '').replace('.', '').lstrip('-').isnumeric() == True: \n",
    "        return [float(number.replace(',', '')), None]\n",
    "    # case 5: non-numbers\n",
    "    return [number, None]\n"
   ]
  },
  {
   "cell_type": "code",
   "execution_count": 14,
   "metadata": {},
   "outputs": [
    {
     "name": "stderr",
     "output_type": "stream",
     "text": [
      "100%|██████████| 2/2 [00:00<00:00, 97.72it/s]\n"
     ]
    }
   ],
   "source": [
    "# apply function\n",
    "for col in tqdm(DF_FOREX.columns[5:]):\n",
    "    DF_FOREX[col] = DF_FOREX[col].fillna('').apply(handle_number_format)"
   ]
  },
  {
   "cell_type": "code",
   "execution_count": 15,
   "metadata": {},
   "outputs": [
    {
     "name": "stdout",
     "output_type": "stream",
     "text": [
      "<class 'pandas.core.frame.DataFrame'>\n",
      "RangeIndex: 10415 entries, 0 to 10414\n",
      "Data columns (total 7 columns):\n",
      " #   Column    Non-Null Count  Dtype         \n",
      "---  ------    --------------  -----         \n",
      " 0   datetime  8271 non-null   datetime64[ns]\n",
      " 1   currency  10415 non-null  category      \n",
      " 2   impact    10415 non-null  category      \n",
      " 3   event     10415 non-null  category      \n",
      " 4   actual    8261 non-null   object        \n",
      " 5   forecast  10415 non-null  object        \n",
      " 6   previous  10415 non-null  object        \n",
      "dtypes: category(3), datetime64[ns](1), object(3)\n",
      "memory usage: 386.3+ KB\n"
     ]
    }
   ],
   "source": [
    "# check data type\n",
    "DF_FOREX.info()"
   ]
  },
  {
   "attachments": {},
   "cell_type": "markdown",
   "metadata": {},
   "source": [
    "## **03 **"
   ]
  }
 ],
 "metadata": {
  "kernelspec": {
   "display_name": "Python 3",
   "language": "python",
   "name": "python3"
  },
  "language_info": {
   "codemirror_mode": {
    "name": "ipython",
    "version": 3
   },
   "file_extension": ".py",
   "mimetype": "text/x-python",
   "name": "python",
   "nbconvert_exporter": "python",
   "pygments_lexer": "ipython3",
   "version": "3.10.4"
  },
  "orig_nbformat": 4
 },
 "nbformat": 4,
 "nbformat_minor": 2
}
