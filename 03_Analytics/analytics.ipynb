{
 "cells": [
  {
   "attachments": {},
   "cell_type": "markdown",
   "metadata": {},
   "source": [
    "# **PINKSHEPZ'S 07 DATA ANALYTIC**\n",
    "## Dataset\n",
    "1. *Candlestick price*: XAUUSD TF 1D - 12 Oct 2020 to 8 May 2023\n",
    "2. *Economic figure report*: FOREX FACTORY TF 1D - 13 Oct 2020 to 31 Dec 2022\n",
    "\n",
    "## Analytics\n",
    "1. Candlestick price distribution\n",
    "    * Scatter 3D: Time - %Change - Frequency distribution\n",
    "    * Line 2D: Timezone - Mean %Change\n",
    "    * Scatter 2D: %Change of n candlestick - %Change of n+1 candlestick\n",
    "2. Economic figure distribution\n",
    "3. Candlestick price x economic figure correlation"
   ]
  },
  {
   "attachments": {},
   "cell_type": "markdown",
   "metadata": {},
   "source": [
    "## **01 IMPORT & DATA PREPARATION**"
   ]
  },
  {
   "cell_type": "code",
   "execution_count": 1,
   "metadata": {},
   "outputs": [],
   "source": [
    "# Import libraries\n",
    "import numpy as np\n",
    "import pandas as pd\n",
    "import matplotlib.pyplot as plt\n",
    "import datetime as dt"
   ]
  },
  {
   "cell_type": "code",
   "execution_count": 8,
   "metadata": {},
   "outputs": [],
   "source": [
    "# Import dataset\n",
    "PATH_XAUUSD = '/workspaces/Enterprise/03_Analytics/input/XAUUSD-1H_220103_230503.csv'\n",
    "PATH_FOREX = '/workspaces/Enterprise/03_Analytics/input/FOREX_311222_131020.csv'\n",
    "\n",
    "DF_XAUUSD = pd.read_csv(PATH_XAUUSD).iloc[:, 1:]\n",
    "DF_XAUUSD.iloc[:, 0] = pd.to_datetime(DF_XAUUSD.iloc[:, 0]).dt.date\n",
    "for col in DF_XAUUSD.columns[1:]:\n",
    "    DF_XAUUSD[col] = DF_XAUUSD[col].astype('float64')\n",
    "\n",
    "DF_FOREX = pd.read_csv(PATH_FOREX).iloc[:, 1:]\n",
    "DF_FOREX.iloc[:, 0] = pd.to_datetime(DF_XAUUSD.iloc[:, 0]).dt.date\n",
    "DF_FOREX['currency'].astype('category')\n",
    "DF_FOREX['impact'].astype('category')\n",
    "DF_FOREX['event'].astype('category')\n",
    "\n",
    "def handle_number_format(number: str) -> list:\n",
    "    \"\"\"Return [number as float, unit i.e. % K M]\"\"\"\n",
    "    # Case 1: na\n",
    "    if number == '':\n",
    "        return [None, None]\n",
    "    number = str(number)\n",
    "    # Case 2: % value\n",
    "    if (number[-1] == '%') & (number.lstrip('-')[0].isnumeric() == True):\n",
    "        return [float(number.rstrip('%')), '%']\n",
    "    # Case 3: 1K 1M 1B 1T unti\n",
    "    if (number[-1].isalpha() == True) & (number.lstrip('-')[0].isnumeric() == True):\n",
    "        return [float(str(number)[:-1]), number[-1]]\n",
    "    # Case 4: ordinary numbers\n",
    "    if number.replace(',', '').replace('.', '').lstrip('-').isnumeric() == True: \n",
    "        return [float(number.replace(',', '')), None]\n",
    "    # Case 5: non-numbers\n",
    "    return [number, None]\n",
    "\n",
    "for col in DF_FOREX.columns[5:]:\n",
    "    DF_FOREX[col] = DF_FOREX[col].fillna('').apply(handle_number_format)"
   ]
  },
  {
   "attachments": {},
   "cell_type": "markdown",
   "metadata": {},
   "source": [
    "## **02 CANDLESTICK EDA**"
   ]
  },
  {
   "cell_type": "code",
   "execution_count": 11,
   "metadata": {},
   "outputs": [
    {
     "data": {
      "text/html": [
       "<div>\n",
       "<style scoped>\n",
       "    .dataframe tbody tr th:only-of-type {\n",
       "        vertical-align: middle;\n",
       "    }\n",
       "\n",
       "    .dataframe tbody tr th {\n",
       "        vertical-align: top;\n",
       "    }\n",
       "\n",
       "    .dataframe thead th {\n",
       "        text-align: right;\n",
       "    }\n",
       "</style>\n",
       "<table border=\"1\" class=\"dataframe\">\n",
       "  <thead>\n",
       "    <tr style=\"text-align: right;\">\n",
       "      <th></th>\n",
       "      <th>open</th>\n",
       "      <th>high</th>\n",
       "      <th>low</th>\n",
       "      <th>close</th>\n",
       "      <th>%Change</th>\n",
       "    </tr>\n",
       "  </thead>\n",
       "  <tbody>\n",
       "    <tr>\n",
       "      <th>count</th>\n",
       "      <td>8271.000000</td>\n",
       "      <td>8271.000000</td>\n",
       "      <td>8271.000000</td>\n",
       "      <td>8271.000000</td>\n",
       "      <td>8271.000000</td>\n",
       "    </tr>\n",
       "    <tr>\n",
       "      <th>mean</th>\n",
       "      <td>1830.425790</td>\n",
       "      <td>1832.880063</td>\n",
       "      <td>1827.481012</td>\n",
       "      <td>1830.438785</td>\n",
       "      <td>0.000833</td>\n",
       "    </tr>\n",
       "    <tr>\n",
       "      <th>std</th>\n",
       "      <td>99.467486</td>\n",
       "      <td>99.720986</td>\n",
       "      <td>99.318595</td>\n",
       "      <td>99.490533</td>\n",
       "      <td>0.193789</td>\n",
       "    </tr>\n",
       "    <tr>\n",
       "      <th>min</th>\n",
       "      <td>1616.560000</td>\n",
       "      <td>1620.440000</td>\n",
       "      <td>1614.090000</td>\n",
       "      <td>1616.670000</td>\n",
       "      <td>-1.918800</td>\n",
       "    </tr>\n",
       "    <tr>\n",
       "      <th>25%</th>\n",
       "      <td>1760.360000</td>\n",
       "      <td>1762.685000</td>\n",
       "      <td>1757.560000</td>\n",
       "      <td>1760.360000</td>\n",
       "      <td>-0.090750</td>\n",
       "    </tr>\n",
       "    <tr>\n",
       "      <th>50%</th>\n",
       "      <td>1828.710000</td>\n",
       "      <td>1831.330000</td>\n",
       "      <td>1825.880000</td>\n",
       "      <td>1828.670000</td>\n",
       "      <td>-0.004100</td>\n",
       "    </tr>\n",
       "    <tr>\n",
       "      <th>75%</th>\n",
       "      <td>1912.510000</td>\n",
       "      <td>1915.045000</td>\n",
       "      <td>1908.420000</td>\n",
       "      <td>1912.470000</td>\n",
       "      <td>0.089900</td>\n",
       "    </tr>\n",
       "    <tr>\n",
       "      <th>max</th>\n",
       "      <td>2069.480000</td>\n",
       "      <td>2070.430000</td>\n",
       "      <td>2051.050000</td>\n",
       "      <td>2069.320000</td>\n",
       "      <td>2.020200</td>\n",
       "    </tr>\n",
       "  </tbody>\n",
       "</table>\n",
       "</div>"
      ],
      "text/plain": [
       "              open         high          low        close      %Change\n",
       "count  8271.000000  8271.000000  8271.000000  8271.000000  8271.000000\n",
       "mean   1830.425790  1832.880063  1827.481012  1830.438785     0.000833\n",
       "std      99.467486    99.720986    99.318595    99.490533     0.193789\n",
       "min    1616.560000  1620.440000  1614.090000  1616.670000    -1.918800\n",
       "25%    1760.360000  1762.685000  1757.560000  1760.360000    -0.090750\n",
       "50%    1828.710000  1831.330000  1825.880000  1828.670000    -0.004100\n",
       "75%    1912.510000  1915.045000  1908.420000  1912.470000     0.089900\n",
       "max    2069.480000  2070.430000  2051.050000  2069.320000     2.020200"
      ]
     },
     "execution_count": 11,
     "metadata": {},
     "output_type": "execute_result"
    }
   ],
   "source": [
    "DF_XAUUSD.describe()"
   ]
  },
  {
   "cell_type": "code",
   "execution_count": null,
   "metadata": {},
   "outputs": [],
   "source": []
  }
 ],
 "metadata": {
  "kernelspec": {
   "display_name": "Python 3",
   "language": "python",
   "name": "python3"
  },
  "language_info": {
   "codemirror_mode": {
    "name": "ipython",
    "version": 3
   },
   "file_extension": ".py",
   "mimetype": "text/x-python",
   "name": "python",
   "nbconvert_exporter": "python",
   "pygments_lexer": "ipython3",
   "version": "3.10.4"
  },
  "orig_nbformat": 4
 },
 "nbformat": 4,
 "nbformat_minor": 2
}
