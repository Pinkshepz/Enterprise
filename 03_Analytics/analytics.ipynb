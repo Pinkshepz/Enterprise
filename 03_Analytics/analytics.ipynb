{
 "cells": [
  {
   "attachments": {},
   "cell_type": "markdown",
   "metadata": {},
   "source": [
    "# **PINKSHEPZ'S DATA ANALYTIC**\n",
    "## Dataset\n",
    "1. *Candlestick price*: XAUUSD TF 1D - 12 Oct 2020 to 8 May 2023\n",
    "2. *Economic figure report*: FOREX FACTORY TF 1D - 13 Oct 2020 to 31 Dec 2022\n",
    "\n",
    "## Analytics\n",
    "1. Candlestick price distribution\n",
    "    * Scatter 3D: Time - %Change - Frequency distribution\n",
    "    * Line 2D: Timezone - Mean %Change\n",
    "    * Scatter 2D: %Change of n candlestick - %Change of n+1 candlestick\n",
    "2. Economic figure distribution\n",
    "3. Candlestick price x economic figure correlation"
   ]
  },
  {
   "attachments": {},
   "cell_type": "markdown",
   "metadata": {},
   "source": [
    "## **01 IMPORT & DATA PREPARATION**"
   ]
  },
  {
   "cell_type": "code",
   "execution_count": 2,
   "metadata": {},
   "outputs": [],
   "source": [
    "# Import libraries\n",
    "import numpy as np\n",
    "import pandas as pd\n",
    "import matplotlib.pyplot as plt\n",
    "import datetime as dt"
   ]
  },
  {
   "cell_type": "code",
   "execution_count": 3,
   "metadata": {},
   "outputs": [],
   "source": [
    "# Import dataset\n",
    "PATH_XAUUSD = '/workspaces/Enterprise/03_Analytics/input/XAUUSD_080523_121020.csv'\n",
    "PATH_FOREX = '/workspaces/Enterprise/03_Analytics/input/FOREX_311222_131020.csv'\n",
    "\n",
    "DF_XAUUSD = pd.read_csv(PATH_XAUUSD).drop(columns=['Vol'])\n",
    "DF_XAUUSD.iloc[:, 0] = pd.to_datetime(DF_XAUUSD.iloc[:, 0]).dt.date\n",
    "for col in DF_XAUUSD.columns[1:5]:\n",
    "    DF_XAUUSD[col] = DF_XAUUSD[col].str.replace(',', '').astype('float64')\n",
    "DF_XAUUSD['%Change'] = DF_XAUUSD['%Change'].str.replace('%', '').astype('float64')\n",
    "\n",
    "DF_FOREX = pd.read_csv(PATH_FOREX).iloc[:, 1:]\n",
    "DF_FOREX.iloc[:, 0] = pd.to_datetime(DF_XAUUSD.iloc[:, 0]).dt.date\n",
    "DF_FOREX['currency'].astype('category')\n",
    "DF_FOREX['impact'].astype('category')\n",
    "DF_FOREX['event'].astype('category')\n",
    "\n",
    "def handle_number_format(number: str) -> list:\n",
    "    \"\"\"Return [number as float, unit i.e. % K M]\"\"\"\n",
    "    # Case 1: na\n",
    "    if number == '':\n",
    "        return [None, None]\n",
    "    number = str(number)\n",
    "    # Case 2: % value\n",
    "    if (number[-1] == '%') & (number.lstrip('-')[0].isnumeric() == True):\n",
    "        return [float(number.rstrip('%')), '%']\n",
    "    # Case 3: 1K 1M 1B 1T unti\n",
    "    if (number[-1].isalpha() == True) & (number.lstrip('-')[0].isnumeric() == True):\n",
    "        return [float(str(number)[:-1]), number[-1]]\n",
    "    # Case 4: ordinary numbers\n",
    "    if number.replace(',', '').replace('.', '').lstrip('-').isnumeric() == True: \n",
    "        return [float(number.replace(',', '')), None]\n",
    "    # Case 5: non-numbers\n",
    "    return [number, None]\n",
    "\n",
    "for col in DF_FOREX.columns[5:]:\n",
    "    DF_FOREX[col] = DF_FOREX[col].fillna('').apply(handle_number_format)"
   ]
  },
  {
   "attachments": {},
   "cell_type": "markdown",
   "metadata": {},
   "source": [
    "## **02 CANDLESTICK EDA**"
   ]
  },
  {
   "cell_type": "code",
   "execution_count": 13,
   "metadata": {},
   "outputs": [
    {
     "data": {
      "text/plain": [
       "'2022'"
      ]
     },
     "execution_count": 13,
     "metadata": {},
     "output_type": "execute_result"
    }
   ],
   "source": [
    "import pandas as pd\n",
    "import datetime as dt\n",
    "\n",
    "path = \"/workspaces/Enterprise/02_Candlestick/input/candlestick_parameters.csv\"\n",
    "dff = pd.read_csv(path)\n",
    "dff.iloc[:, 0] = pd.to_datetime(\n",
    "        dff.iloc[:, 0], format=\"%Y-%m-%d-%H\")\n",
    "dff.iloc[0, 0].strftime(\"%Y\")"
   ]
  }
 ],
 "metadata": {
  "kernelspec": {
   "display_name": "Python 3",
   "language": "python",
   "name": "python3"
  },
  "language_info": {
   "codemirror_mode": {
    "name": "ipython",
    "version": 3
   },
   "file_extension": ".py",
   "mimetype": "text/x-python",
   "name": "python",
   "nbconvert_exporter": "python",
   "pygments_lexer": "ipython3",
   "version": "3.10.4"
  },
  "orig_nbformat": 4
 },
 "nbformat": 4,
 "nbformat_minor": 2
}
