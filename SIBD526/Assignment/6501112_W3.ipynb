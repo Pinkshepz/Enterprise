{
 "cells": [
  {
   "cell_type": "markdown",
   "id": "9f88634d",
   "metadata": {},
   "source": [
    "# **SIBD526 ASSIGNMENT 03**\n",
    "Basic Programming & Mathematical Computing II\n",
    "\n",
    "6501112 Dechawat C."
   ]
  },
  {
   "cell_type": "code",
   "execution_count": 17,
   "id": "b7c1b37e",
   "metadata": {},
   "outputs": [],
   "source": [
    "# Define class\n",
    "class Person:\n",
    "    # init: define class initial attributes\n",
    "    def __init__(self, name, age, gender):\n",
    "        self.__name = name\n",
    "        self.__age = age\n",
    "        self.__gender = gender\n",
    "        \n",
    "    # method: prints out name, age, and gender\n",
    "    def introduce(self):\n",
    "        print('Name: %s' % (self.__name))\n",
    "        print('Age: %d' % (self.__age))\n",
    "        print('Gender: %s' % (self.__gender))\n",
    "        \n",
    "\n",
    "# Inherit class Person to new class Student\n",
    "class Student(Person):\n",
    "    # init: define class initial attributes\n",
    "    def __init__(self, major):\n",
    "        self.__major = major\n",
    "    \n",
    "    # method: change major\n",
    "    def change_major(self, new_major):\n",
    "        self.__major = new_major\n",
    "        \n",
    "    # method override: prints out name, age, gender, and major\n",
    "    def introduce(self):\n",
    "        print('Major: %s' % (self.__major))"
   ]
  },
  {
   "cell_type": "code",
   "execution_count": 18,
   "id": "dbff07af",
   "metadata": {},
   "outputs": [
    {
     "name": "stdout",
     "output_type": "stream",
     "text": [
      "Name: Prayut\n",
      "Age: 71\n",
      "Gender: M\n"
     ]
    }
   ],
   "source": [
    "person = Person(\"Roronoa Zoro\", 21, \"M\")\n",
    "person.introduce()"
   ]
  },
  {
   "cell_type": "code",
   "execution_count": 19,
   "id": "971040b9",
   "metadata": {},
   "outputs": [
    {
     "name": "stdout",
     "output_type": "stream",
     "text": [
      "Major: Millitary\n"
     ]
    }
   ],
   "source": [
    "student = Student(\"Santoryu\")\n",
    "student.introduce()"
   ]
  }
 ],
 "metadata": {
  "kernelspec": {
   "display_name": "Python 3",
   "language": "python",
   "name": "python3"
  },
  "language_info": {
   "codemirror_mode": {
    "name": "ipython",
    "version": 3
   },
   "file_extension": ".py",
   "mimetype": "text/x-python",
   "name": "python",
   "nbconvert_exporter": "python",
   "pygments_lexer": "ipython3",
   "version": "3.6.13"
  }
 },
 "nbformat": 4,
 "nbformat_minor": 5
}
