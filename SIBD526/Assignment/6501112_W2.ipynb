{
 "cells": [
  {
   "cell_type": "markdown",
   "id": "edeabd50",
   "metadata": {},
   "source": [
    "# **SIBD526 ASSIGNMENT 02**\n",
    "Basic Programming & Mathematical Computing I\n",
    "\n",
    "6501112 Dechawat C."
   ]
  },
  {
   "cell_type": "code",
   "execution_count": 67,
   "id": "aedf52ae",
   "metadata": {},
   "outputs": [
    {
     "name": "stdout",
     "output_type": "stream",
     "text": [
      "Sum of list_1 is 15\n",
      "Sum of list_2 is 150\n"
     ]
    }
   ],
   "source": [
    "# Define function\n",
    "def sum_int_from_list(list_):\n",
    "    \"\"\"Sum of all integers in given list\n",
    "    \n",
    "    Args:\n",
    "    list_1 (list): list of integers\n",
    "    \n",
    "    Out:\n",
    "    total (int): sum of integers in the list\n",
    "    \"\"\"\n",
    "\n",
    "    # Define var for storing total sum\n",
    "    total = 0\n",
    "\n",
    "    # Loop to sum all integers in the list\n",
    "    for i in list_:\n",
    "        total += i\n",
    "\n",
    "    # Return total sum\n",
    "    return(total)\n",
    "\n",
    "\n",
    "# Input (list and dict)\n",
    "list_1 = [1, 2, 3, 4, 5]\n",
    "dict_2 = {1: 10, 2: 20, 3: 30, 4: 40, 5: 50}\n",
    "\n",
    "# Create list of dict values\n",
    "list_2 = list(dict_2.values())\n",
    "\n",
    "# Get sum of all values in the list\n",
    "sum_1 = sum_int_from_list(list_1)\n",
    "sum_2 = sum_int_from_list(list_2)\n",
    "\n",
    "# Print outputs\n",
    "print('Sum of list_1 is %d' % (sum_1))\n",
    "print('Sum of list_2 is %d' % (sum_2))"
   ]
  }
 ],
 "metadata": {
  "kernelspec": {
   "display_name": "Python 3",
   "language": "python",
   "name": "python3"
  },
  "language_info": {
   "codemirror_mode": {
    "name": "ipython",
    "version": 3
   },
   "file_extension": ".py",
   "mimetype": "text/x-python",
   "name": "python",
   "nbconvert_exporter": "python",
   "pygments_lexer": "ipython3",
   "version": "3.6.13"
  }
 },
 "nbformat": 4,
 "nbformat_minor": 5
}
