{
 "cells": [
  {
   "cell_type": "markdown",
   "metadata": {},
   "source": [
    "# **SIBD526 ASSIGNMENT 01**\n",
    "Data Science Overview and Data Analytics\n",
    "\n",
    "6501112 Dechawat C."
   ]
  },
  {
   "cell_type": "code",
   "execution_count": 1,
   "metadata": {},
   "outputs": [
    {
     "name": "stdout",
     "output_type": "stream",
     "text": [
      "How are you?\n",
      "0\n",
      "1\n",
      "2\n",
      "3\n",
      "4\n",
      "You did it well\n"
     ]
    }
   ],
   "source": [
    "# Define variables for printing\n",
    "first_text = 'How are you?'\n",
    "last_text = 'You did it well'\n",
    "loop_count = 5\n",
    "\n",
    "# Print first text\n",
    "print(first_text)\n",
    "\n",
    "# Loop for printing numbers starting from 0 to (n-1)\n",
    "for number in range(loop_count):\n",
    "    # Print number\n",
    "    print(number)\n",
    "\n",
    "# Print last text\n",
    "print(last_text)\n"
   ]
  }
 ],
 "metadata": {
  "kernelspec": {
   "display_name": "Python 3",
   "language": "python",
   "name": "python3"
  },
  "language_info": {
   "codemirror_mode": {
    "name": "ipython",
    "version": 3
   },
   "file_extension": ".py",
   "mimetype": "text/x-python",
   "name": "python",
   "nbconvert_exporter": "python",
   "pygments_lexer": "ipython3",
   "version": "3.6.13"
  }
 },
 "nbformat": 4,
 "nbformat_minor": 2
}
