{
 "cells": [
  {
   "cell_type": "code",
   "execution_count": 1,
   "id": "0064df78",
   "metadata": {},
   "outputs": [
    {
     "name": "stdout",
     "output_type": "stream",
     "text": [
      "Requirement already satisfied: numpy in c:\\users\\art\\anaconda3\\envs\\python3\\lib\\site-packages (1.19.5)\n",
      "Note: you may need to restart the kernel to use updated packages.\n"
     ]
    }
   ],
   "source": [
    "pip install numpy"
   ]
  },
  {
   "cell_type": "code",
   "execution_count": 2,
   "id": "53de0db1",
   "metadata": {},
   "outputs": [
    {
     "name": "stdout",
     "output_type": "stream",
     "text": [
      "[[2.55808002]\n",
      " [2.93655106]]\n",
      "[[2.55808002]\n",
      " [5.49463108]]\n"
     ]
    }
   ],
   "source": [
    "import numpy as np\n",
    "\n",
    "# Generate some random data\n",
    "np.random.seed(0)\n",
    "x = np.random.rand(100, 1)\n",
    "y = 2 + 3 * x + np.random.rand(100, 1)\n",
    "\n",
    "# Add a column of ones to the input data\n",
    "X = np.c_[np.ones((100, 1)), x]\n",
    "\n",
    "# Solve the linear regression problem using the normal equation\n",
    "theta = np.linalg.inv(X.T.dot(X)).dot(X.T).dot(y)\n",
    "print(theta)\n",
    "\n",
    "# Predict the output for a new input\n",
    "x_new = np.array([[0], [1]])\n",
    "X_new = np.c_[np.ones((2, 1)), x_new]\n",
    "y_pred = X_new.dot(theta)\n",
    "\n",
    "print(y_pred)\n"
   ]
  },
  {
   "cell_type": "code",
   "execution_count": 3,
   "id": "27fb4139",
   "metadata": {},
   "outputs": [
    {
     "name": "stdout",
     "output_type": "stream",
     "text": [
      "Requirement already satisfied: pandas in c:\\users\\art\\anaconda3\\envs\\python3\\lib\\site-packages (1.1.5)\n",
      "Requirement already satisfied: pytz>=2017.2 in c:\\users\\art\\anaconda3\\envs\\python3\\lib\\site-packages (from pandas) (2023.3)\n",
      "Requirement already satisfied: numpy>=1.15.4 in c:\\users\\art\\anaconda3\\envs\\python3\\lib\\site-packages (from pandas) (1.19.5)\n",
      "Requirement already satisfied: python-dateutil>=2.7.3 in c:\\users\\art\\anaconda3\\envs\\python3\\lib\\site-packages (from pandas) (2.8.2)\n",
      "Requirement already satisfied: six>=1.5 in c:\\users\\art\\anaconda3\\envs\\python3\\lib\\site-packages (from python-dateutil>=2.7.3->pandas) (1.16.0)\n",
      "Note: you may need to restart the kernel to use updated packages.\n"
     ]
    }
   ],
   "source": [
    "pip install pandas"
   ]
  },
  {
   "cell_type": "code",
   "execution_count": 4,
   "id": "34c72406",
   "metadata": {},
   "outputs": [
    {
     "name": "stdout",
     "output_type": "stream",
     "text": [
      "X_try\n",
      "   income_per_age  education_Bachelor's Degree  education_Doctoral Degree  \\\n",
      "4     1774.193548                            0                          0   \n",
      "\n",
      "   education_Master's Degree  age_scaled  \n",
      "4                          1         0.4  \n",
      "y_try\n",
      "   age  income\n",
      "4   31   55000\n"
     ]
    }
   ],
   "source": [
    "import pandas as pd\n",
    "# Load a dataset\n",
    "df = pd.read_csv('dataPanda.csv')\n",
    "# Select a subset of the columns\n",
    "df = df[['age', 'income', 'education']]\n",
    "# Create a new column by applying a function to an existing column\n",
    "df['income_per_age'] = df['income'] / df['age']\n",
    "# Create a dummy variable for a categorical column\n",
    "df = pd.get_dummies(df, columns=['education'])\n",
    "# Normalize a column using min-max scaling\n",
    "df['age_scaled'] = (df['age'] - df['age'].min()) / (df['age'].max() - df['age'].min())\n",
    "# print('df')\n",
    "# print(df)\n",
    "# Split the dataset into a training set and a test set\n",
    "df_train = df.sample(frac=0.8, random_state=0)\n",
    "# print('df_train')\n",
    "# print(df_train)\n",
    "df_test = df.drop(df_train.index)\n",
    "# print('df_test')\n",
    "# print(df_test)\n",
    "# Extract the features and labels\n",
    "X_train = df_train.drop(columns=['income'])\n",
    "# print('X_train')\n",
    "# print(X_train)\n",
    "y_train = df_train['income']\n",
    "# print('y_train')\n",
    "# print(y_train)\n",
    "X_test = df_test.drop(columns=['income'])\n",
    "# print('X_test')\n",
    "# print(X_test)\n",
    "X_try = df_test.drop(columns=['age','income'])\n",
    "print('X_try')\n",
    "print(X_try)\n",
    "y_test = df_test['income']\n",
    "# print('y_test')\n",
    "# print(y_test)\n",
    "y_try = df_test[['age','income']]\n",
    "print('y_try')\n",
    "print(y_try)"
   ]
  },
  {
   "cell_type": "code",
   "execution_count": 5,
   "id": "35111a15",
   "metadata": {},
   "outputs": [
    {
     "data": {
      "text/html": [
       "<div>\n",
       "<style scoped>\n",
       "    .dataframe tbody tr th:only-of-type {\n",
       "        vertical-align: middle;\n",
       "    }\n",
       "\n",
       "    .dataframe tbody tr th {\n",
       "        vertical-align: top;\n",
       "    }\n",
       "\n",
       "    .dataframe thead th {\n",
       "        text-align: right;\n",
       "    }\n",
       "</style>\n",
       "<table border=\"1\" class=\"dataframe\">\n",
       "  <thead>\n",
       "    <tr style=\"text-align: right;\">\n",
       "      <th></th>\n",
       "      <th>age</th>\n",
       "      <th>income</th>\n",
       "      <th>income_per_age</th>\n",
       "      <th>education_Bachelor's Degree</th>\n",
       "      <th>education_Doctoral Degree</th>\n",
       "      <th>education_Master's Degree</th>\n",
       "      <th>age_scaled</th>\n",
       "    </tr>\n",
       "  </thead>\n",
       "  <tbody>\n",
       "    <tr>\n",
       "      <th>2</th>\n",
       "      <td>40</td>\n",
       "      <td>70000</td>\n",
       "      <td>1750.000000</td>\n",
       "      <td>0</td>\n",
       "      <td>1</td>\n",
       "      <td>0</td>\n",
       "      <td>1.000000</td>\n",
       "    </tr>\n",
       "    <tr>\n",
       "      <th>0</th>\n",
       "      <td>25</td>\n",
       "      <td>50000</td>\n",
       "      <td>2000.000000</td>\n",
       "      <td>1</td>\n",
       "      <td>0</td>\n",
       "      <td>0</td>\n",
       "      <td>0.000000</td>\n",
       "    </tr>\n",
       "    <tr>\n",
       "      <th>1</th>\n",
       "      <td>35</td>\n",
       "      <td>60000</td>\n",
       "      <td>1714.285714</td>\n",
       "      <td>0</td>\n",
       "      <td>0</td>\n",
       "      <td>1</td>\n",
       "      <td>0.666667</td>\n",
       "    </tr>\n",
       "    <tr>\n",
       "      <th>3</th>\n",
       "      <td>28</td>\n",
       "      <td>45000</td>\n",
       "      <td>1607.142857</td>\n",
       "      <td>1</td>\n",
       "      <td>0</td>\n",
       "      <td>0</td>\n",
       "      <td>0.200000</td>\n",
       "    </tr>\n",
       "  </tbody>\n",
       "</table>\n",
       "</div>"
      ],
      "text/plain": [
       "   age  income  income_per_age  education_Bachelor's Degree  \\\n",
       "2   40   70000     1750.000000                            0   \n",
       "0   25   50000     2000.000000                            1   \n",
       "1   35   60000     1714.285714                            0   \n",
       "3   28   45000     1607.142857                            1   \n",
       "\n",
       "   education_Doctoral Degree  education_Master's Degree  age_scaled  \n",
       "2                          1                          0    1.000000  \n",
       "0                          0                          0    0.000000  \n",
       "1                          0                          1    0.666667  \n",
       "3                          0                          0    0.200000  "
      ]
     },
     "execution_count": 5,
     "metadata": {},
     "output_type": "execute_result"
    }
   ],
   "source": [
    "df.sample(frac=0.8, random_state=0)"
   ]
  },
  {
   "cell_type": "code",
   "execution_count": 6,
   "id": "fd84a465",
   "metadata": {},
   "outputs": [
    {
     "data": {
      "text/html": [
       "<div>\n",
       "<style scoped>\n",
       "    .dataframe tbody tr th:only-of-type {\n",
       "        vertical-align: middle;\n",
       "    }\n",
       "\n",
       "    .dataframe tbody tr th {\n",
       "        vertical-align: top;\n",
       "    }\n",
       "\n",
       "    .dataframe thead th {\n",
       "        text-align: right;\n",
       "    }\n",
       "</style>\n",
       "<table border=\"1\" class=\"dataframe\">\n",
       "  <thead>\n",
       "    <tr style=\"text-align: right;\">\n",
       "      <th></th>\n",
       "      <th>age</th>\n",
       "      <th>income</th>\n",
       "      <th>income_per_age</th>\n",
       "      <th>education_Bachelor's Degree</th>\n",
       "      <th>education_Doctoral Degree</th>\n",
       "      <th>education_Master's Degree</th>\n",
       "      <th>age_scaled</th>\n",
       "    </tr>\n",
       "  </thead>\n",
       "  <tbody>\n",
       "    <tr>\n",
       "      <th>2</th>\n",
       "      <td>40</td>\n",
       "      <td>70000</td>\n",
       "      <td>1750.000000</td>\n",
       "      <td>0</td>\n",
       "      <td>1</td>\n",
       "      <td>0</td>\n",
       "      <td>1.000000</td>\n",
       "    </tr>\n",
       "    <tr>\n",
       "      <th>1</th>\n",
       "      <td>35</td>\n",
       "      <td>60000</td>\n",
       "      <td>1714.285714</td>\n",
       "      <td>0</td>\n",
       "      <td>0</td>\n",
       "      <td>1</td>\n",
       "      <td>0.666667</td>\n",
       "    </tr>\n",
       "    <tr>\n",
       "      <th>4</th>\n",
       "      <td>31</td>\n",
       "      <td>55000</td>\n",
       "      <td>1774.193548</td>\n",
       "      <td>0</td>\n",
       "      <td>0</td>\n",
       "      <td>1</td>\n",
       "      <td>0.400000</td>\n",
       "    </tr>\n",
       "    <tr>\n",
       "      <th>0</th>\n",
       "      <td>25</td>\n",
       "      <td>50000</td>\n",
       "      <td>2000.000000</td>\n",
       "      <td>1</td>\n",
       "      <td>0</td>\n",
       "      <td>0</td>\n",
       "      <td>0.000000</td>\n",
       "    </tr>\n",
       "  </tbody>\n",
       "</table>\n",
       "</div>"
      ],
      "text/plain": [
       "   age  income  income_per_age  education_Bachelor's Degree  \\\n",
       "2   40   70000     1750.000000                            0   \n",
       "1   35   60000     1714.285714                            0   \n",
       "4   31   55000     1774.193548                            0   \n",
       "0   25   50000     2000.000000                            1   \n",
       "\n",
       "   education_Doctoral Degree  education_Master's Degree  age_scaled  \n",
       "2                          1                          0    1.000000  \n",
       "1                          0                          1    0.666667  \n",
       "4                          0                          1    0.400000  \n",
       "0                          0                          0    0.000000  "
      ]
     },
     "execution_count": 6,
     "metadata": {},
     "output_type": "execute_result"
    }
   ],
   "source": [
    "df.sample(frac=0.8, random_state=1)"
   ]
  },
  {
   "cell_type": "code",
   "execution_count": 7,
   "id": "65b552f9",
   "metadata": {},
   "outputs": [
    {
     "data": {
      "text/html": [
       "<div>\n",
       "<style scoped>\n",
       "    .dataframe tbody tr th:only-of-type {\n",
       "        vertical-align: middle;\n",
       "    }\n",
       "\n",
       "    .dataframe tbody tr th {\n",
       "        vertical-align: top;\n",
       "    }\n",
       "\n",
       "    .dataframe thead th {\n",
       "        text-align: right;\n",
       "    }\n",
       "</style>\n",
       "<table border=\"1\" class=\"dataframe\">\n",
       "  <thead>\n",
       "    <tr style=\"text-align: right;\">\n",
       "      <th></th>\n",
       "      <th>age</th>\n",
       "      <th>income</th>\n",
       "      <th>income_per_age</th>\n",
       "      <th>education_Bachelor's Degree</th>\n",
       "      <th>education_Doctoral Degree</th>\n",
       "      <th>education_Master's Degree</th>\n",
       "      <th>age_scaled</th>\n",
       "    </tr>\n",
       "  </thead>\n",
       "  <tbody>\n",
       "    <tr>\n",
       "      <th>1</th>\n",
       "      <td>35</td>\n",
       "      <td>60000</td>\n",
       "      <td>1714.285714</td>\n",
       "      <td>0</td>\n",
       "      <td>0</td>\n",
       "      <td>1</td>\n",
       "      <td>0.666667</td>\n",
       "    </tr>\n",
       "    <tr>\n",
       "      <th>2</th>\n",
       "      <td>40</td>\n",
       "      <td>70000</td>\n",
       "      <td>1750.000000</td>\n",
       "      <td>0</td>\n",
       "      <td>1</td>\n",
       "      <td>0</td>\n",
       "      <td>1.000000</td>\n",
       "    </tr>\n",
       "    <tr>\n",
       "      <th>4</th>\n",
       "      <td>31</td>\n",
       "      <td>55000</td>\n",
       "      <td>1774.193548</td>\n",
       "      <td>0</td>\n",
       "      <td>0</td>\n",
       "      <td>1</td>\n",
       "      <td>0.400000</td>\n",
       "    </tr>\n",
       "    <tr>\n",
       "      <th>3</th>\n",
       "      <td>28</td>\n",
       "      <td>45000</td>\n",
       "      <td>1607.142857</td>\n",
       "      <td>1</td>\n",
       "      <td>0</td>\n",
       "      <td>0</td>\n",
       "      <td>0.200000</td>\n",
       "    </tr>\n",
       "  </tbody>\n",
       "</table>\n",
       "</div>"
      ],
      "text/plain": [
       "   age  income  income_per_age  education_Bachelor's Degree  \\\n",
       "1   35   60000     1714.285714                            0   \n",
       "2   40   70000     1750.000000                            0   \n",
       "4   31   55000     1774.193548                            0   \n",
       "3   28   45000     1607.142857                            1   \n",
       "\n",
       "   education_Doctoral Degree  education_Master's Degree  age_scaled  \n",
       "1                          0                          1    0.666667  \n",
       "2                          1                          0    1.000000  \n",
       "4                          0                          1    0.400000  \n",
       "3                          0                          0    0.200000  "
      ]
     },
     "execution_count": 7,
     "metadata": {},
     "output_type": "execute_result"
    }
   ],
   "source": [
    "df.sample(frac=0.8, random_state=9999999)"
   ]
  },
  {
   "cell_type": "code",
   "execution_count": 8,
   "id": "d7cf84db",
   "metadata": {},
   "outputs": [
    {
     "name": "stdout",
     "output_type": "stream",
     "text": [
      "   age  income  income_per_age  education_Bachelor's Degree  \\\n",
      "0   25   50000     2000.000000                            1   \n",
      "1   35   60000     1714.285714                            0   \n",
      "2   40   70000     1750.000000                            0   \n",
      "3   28   45000     1607.142857                            1   \n",
      "4   31   55000     1774.193548                            0   \n",
      "\n",
      "   education_Doctoral Degree  education_Master's Degree  age_scaled  \n",
      "0                          0                          0    0.000000  \n",
      "1                          0                          1    0.666667  \n",
      "2                          1                          0    1.000000  \n",
      "3                          0                          0    0.200000  \n",
      "4                          0                          1    0.400000  \n"
     ]
    }
   ],
   "source": [
    "print(df)"
   ]
  },
  {
   "cell_type": "code",
   "execution_count": 9,
   "id": "28472f28",
   "metadata": {},
   "outputs": [
    {
     "data": {
      "text/html": [
       "<div>\n",
       "<style scoped>\n",
       "    .dataframe tbody tr th:only-of-type {\n",
       "        vertical-align: middle;\n",
       "    }\n",
       "\n",
       "    .dataframe tbody tr th {\n",
       "        vertical-align: top;\n",
       "    }\n",
       "\n",
       "    .dataframe thead th {\n",
       "        text-align: right;\n",
       "    }\n",
       "</style>\n",
       "<table border=\"1\" class=\"dataframe\">\n",
       "  <thead>\n",
       "    <tr style=\"text-align: right;\">\n",
       "      <th></th>\n",
       "      <th>age</th>\n",
       "      <th>income</th>\n",
       "      <th>education_Bachelor's Degree</th>\n",
       "      <th>education_Doctoral Degree</th>\n",
       "      <th>education_Master's Degree</th>\n",
       "    </tr>\n",
       "  </thead>\n",
       "  <tbody>\n",
       "    <tr>\n",
       "      <th>0</th>\n",
       "      <td>25</td>\n",
       "      <td>50000</td>\n",
       "      <td>1</td>\n",
       "      <td>0</td>\n",
       "      <td>0</td>\n",
       "    </tr>\n",
       "    <tr>\n",
       "      <th>1</th>\n",
       "      <td>35</td>\n",
       "      <td>60000</td>\n",
       "      <td>0</td>\n",
       "      <td>0</td>\n",
       "      <td>1</td>\n",
       "    </tr>\n",
       "    <tr>\n",
       "      <th>2</th>\n",
       "      <td>40</td>\n",
       "      <td>70000</td>\n",
       "      <td>0</td>\n",
       "      <td>1</td>\n",
       "      <td>0</td>\n",
       "    </tr>\n",
       "    <tr>\n",
       "      <th>3</th>\n",
       "      <td>28</td>\n",
       "      <td>45000</td>\n",
       "      <td>1</td>\n",
       "      <td>0</td>\n",
       "      <td>0</td>\n",
       "    </tr>\n",
       "    <tr>\n",
       "      <th>4</th>\n",
       "      <td>31</td>\n",
       "      <td>55000</td>\n",
       "      <td>0</td>\n",
       "      <td>0</td>\n",
       "      <td>1</td>\n",
       "    </tr>\n",
       "  </tbody>\n",
       "</table>\n",
       "</div>"
      ],
      "text/plain": [
       "   age  income  education_Bachelor's Degree  education_Doctoral Degree  \\\n",
       "0   25   50000                            1                          0   \n",
       "1   35   60000                            0                          0   \n",
       "2   40   70000                            0                          1   \n",
       "3   28   45000                            1                          0   \n",
       "4   31   55000                            0                          0   \n",
       "\n",
       "   education_Master's Degree  \n",
       "0                          0  \n",
       "1                          1  \n",
       "2                          0  \n",
       "3                          0  \n",
       "4                          1  "
      ]
     },
     "execution_count": 9,
     "metadata": {},
     "output_type": "execute_result"
    }
   ],
   "source": [
    "df = pd.read_csv('dataPanda.csv')\n",
    "pd.get_dummies(df, columns=['education'])"
   ]
  },
  {
   "cell_type": "code",
   "execution_count": 10,
   "id": "03e5bbdc",
   "metadata": {},
   "outputs": [
    {
     "name": "stdout",
     "output_type": "stream",
     "text": [
      "   age  income_per_age  education_Bachelor's Degree  \\\n",
      "2   40     1750.000000                            0   \n",
      "0   25     2000.000000                            1   \n",
      "1   35     1714.285714                            0   \n",
      "3   28     1607.142857                            1   \n",
      "\n",
      "   education_Doctoral Degree  education_Master's Degree  age_scaled  \n",
      "2                          1                          0    1.000000  \n",
      "0                          0                          0    0.000000  \n",
      "1                          0                          1    0.666667  \n",
      "3                          0                          0    0.200000  \n"
     ]
    }
   ],
   "source": [
    "print(X_train)\n"
   ]
  },
  {
   "cell_type": "code",
   "execution_count": 11,
   "id": "58fa74ea",
   "metadata": {},
   "outputs": [
    {
     "name": "stdout",
     "output_type": "stream",
     "text": [
      "4    55000\n",
      "Name: income, dtype: int64\n"
     ]
    }
   ],
   "source": [
    "print(y_test)"
   ]
  },
  {
   "cell_type": "code",
   "execution_count": 12,
   "id": "6ba5b1f9",
   "metadata": {},
   "outputs": [
    {
     "ename": "NameError",
     "evalue": "name 'plt' is not defined",
     "output_type": "error",
     "traceback": [
      "\u001b[1;31m---------------------------------------------------------------------------\u001b[0m",
      "\u001b[1;31mNameError\u001b[0m                                 Traceback (most recent call last)",
      "\u001b[1;32m<ipython-input-12-111c724409e6>\u001b[0m in \u001b[0;36m<module>\u001b[1;34m\u001b[0m\n\u001b[1;32m----> 1\u001b[1;33m \u001b[0mplt\u001b[0m\u001b[1;33m,\u001b[0m \u001b[0max\u001b[0m \u001b[1;33m=\u001b[0m \u001b[0mplt\u001b[0m\u001b[1;33m.\u001b[0m\u001b[0msubplot\u001b[0m\u001b[1;33m(\u001b[0m\u001b[1;33m)\u001b[0m\u001b[1;33m\u001b[0m\u001b[1;33m\u001b[0m\u001b[0m\n\u001b[0m\u001b[0;32m      2\u001b[0m \u001b[1;33m\u001b[0m\u001b[0m\n\u001b[0;32m      3\u001b[0m \u001b[0mnp\u001b[0m\u001b[1;33m.\u001b[0m\u001b[0mrandom\u001b[0m\u001b[1;33m.\u001b[0m\u001b[0mrandn\u001b[0m\u001b[1;33m(\u001b[0m\u001b[1;36m100\u001b[0m\u001b[1;33m)\u001b[0m\u001b[1;33m\u001b[0m\u001b[1;33m\u001b[0m\u001b[0m\n",
      "\u001b[1;31mNameError\u001b[0m: name 'plt' is not defined"
     ]
    }
   ],
   "source": [
    "plt, ax = plt.subplot()\n",
    "\n",
    "np.random.randn(100)"
   ]
  },
  {
   "cell_type": "code",
   "execution_count": 13,
   "id": "b89f56cd",
   "metadata": {},
   "outputs": [
    {
     "name": "stdout",
     "output_type": "stream",
     "text": [
      "Requirement already satisfied: matplotlib in c:\\users\\art\\anaconda3\\envs\\python3\\lib\\site-packages (3.3.4)Note: you may need to restart the kernel to use updated packages.\n",
      "\n",
      "Requirement already satisfied: cycler>=0.10 in c:\\users\\art\\anaconda3\\envs\\python3\\lib\\site-packages (from matplotlib) (0.11.0)\n",
      "Requirement already satisfied: pillow>=6.2.0 in c:\\users\\art\\anaconda3\\envs\\python3\\lib\\site-packages (from matplotlib) (8.4.0)\n",
      "Requirement already satisfied: numpy>=1.15 in c:\\users\\art\\anaconda3\\envs\\python3\\lib\\site-packages (from matplotlib) (1.19.5)\n",
      "Requirement already satisfied: python-dateutil>=2.1 in c:\\users\\art\\anaconda3\\envs\\python3\\lib\\site-packages (from matplotlib) (2.8.2)\n",
      "Requirement already satisfied: pyparsing!=2.0.4,!=2.1.2,!=2.1.6,>=2.0.3 in c:\\users\\art\\anaconda3\\envs\\python3\\lib\\site-packages (from matplotlib) (3.0.9)\n",
      "Requirement already satisfied: kiwisolver>=1.0.1 in c:\\users\\art\\anaconda3\\envs\\python3\\lib\\site-packages (from matplotlib) (1.3.1)\n",
      "Requirement already satisfied: six>=1.5 in c:\\users\\art\\anaconda3\\envs\\python3\\lib\\site-packages (from python-dateutil>=2.1->matplotlib) (1.16.0)\n"
     ]
    }
   ],
   "source": [
    "pip install matplotlib"
   ]
  },
  {
   "cell_type": "code",
   "execution_count": 20,
   "id": "367c09a7",
   "metadata": {},
   "outputs": [
    {
     "data": {
      "image/png": "[encoded data removed]",
      "text/plain": [
       "<Figure size 432x288 with 1 Axes>"
      ]
     },
     "metadata": {
      "needs_background": "light"
     },
     "output_type": "display_data"
    }
   ],
   "source": [
    "import matplotlib.pyplot as plt\n",
    "\n",
    "# Generate some random data\n",
    "np.random.seed(0)\n",
    "x = np.linspace(0, 10, 100)\n",
    "y = x + np.random.randn(100)\n",
    "\n",
    "# Fit a linear regression model\n",
    "slope, intercept = np.polyfit(x, y, 1)\n",
    "\n",
    "# Plot the data and the model\n",
    "plt.scatter(x, y)\n",
    "plt.plot(x, slope * x + intercept, color='red')\n",
    "plt.show()\n"
   ]
  },
  {
   "cell_type": "code",
   "execution_count": 21,
   "id": "4ec15579",
   "metadata": {},
   "outputs": [
    {
     "name": "stdout",
     "output_type": "stream",
     "text": [
      "Requirement already satisfied: sklearn in c:\\users\\art\\anaconda3\\envs\\python3\\lib\\site-packages (0.0.post5)\n",
      "Requirement already satisfied: scipy in c:\\users\\art\\anaconda3\\envs\\python3\\lib\\site-packages (1.5.4)\n",
      "Requirement already satisfied: numpy>=1.14.5 in c:\\users\\art\\anaconda3\\envs\\python3\\lib\\site-packages (from scipy) (1.19.5)\n"
     ]
    }
   ],
   "source": [
    "!pip install sklearn\n",
    "!pip install scipy"
   ]
  },
  {
   "cell_type": "code",
   "execution_count": null,
   "id": "bd126048",
   "metadata": {},
   "outputs": [],
   "source": [
    "!pip list"
   ]
  },
  {
   "cell_type": "code",
   "execution_count": null,
   "id": "a89dc7d5",
   "metadata": {},
   "outputs": [
    {
     "ename": "",
     "evalue": "",
     "output_type": "error",
     "traceback": [
      "\u001b[1;31mFailed to start the Kernel. \n",
      "\u001b[1;31mUnable to start Kernel 'Python 3.10.4' due to connection timeout. \n",
      "\u001b[1;31mView Jupyter <a href='command:jupyter.viewOutput'>log</a> for further details."
     ]
    }
   ],
   "source": [
    "import sklearn\n",
    "from sklearn.tree import DecisionTreeClassifier\n",
    "from sklearn.model_selection import train_test_split\n",
    "from sklearn.metrics import accuracy_score\n",
    "\n",
    "#Load a dataset\n",
    "X=np.array([[1,2],[3,4],[5,6],[7,8]])\n",
    "y=np.array([0,1,0,1])\n",
    "print('X')\n",
    "print(X)\n",
    "print('y')\n",
    "print(y)\n",
    "\n",
    "#Split the dataset into a training set and a test set\n",
    "X_train,X_test,y_train,y_test=train_test_split(X,y,test_size=0.2,random_state=0)\n",
    "\n",
    "#Train a decision tree classifier\n",
    "clf=DecisionTreeClassifier()\n",
    "clf.fit(X_train,y_train)\n",
    "\n",
    "#Make predictions on the test set\n",
    "y_pred=clf.predict(X_test)\n",
    "\n",
    "#Evaluate the model's performance\n",
    "accuracy=accuracy_score(y_test,y_pred)\n",
    "print(f'Accuracy: {accuracy:.2f}')"
   ]
  },
  {
   "cell_type": "code",
   "execution_count": null,
   "id": "dc76cc00",
   "metadata": {},
   "outputs": [],
   "source": [
    "from sklearn.tree import DecisionTreeClassifier\n",
    "from sklearn.model_selection import train_test_split\n",
    "from sklearn.metrics import accuracy_score\n",
    "import numpy as np\n",
    "\n",
    "# Generate synthetic dataset\n",
    "np.random.seed(0)\n",
    "X = np.random.rand(100, 5)\n",
    "y = np.random.randint(2, size=100)\n",
    "print('y')\n",
    "print(y)\n",
    "# Split dataset into training and test sets\n",
    "X_train, X_test, y_train, y_test = train_test_split(X, y, test_size=0.2, random_state=0)\n",
    "\n",
    "# Train decision tree classifier\n",
    "clf = DecisionTreeClassifier(max_depth=3)\n",
    "clf.fit(X_train, y_train)\n",
    "\n",
    "# Make predictions on test set\n",
    "y_pred = clf.predict(X_test)\n",
    "\n",
    "# Evaluate accuracy\n",
    "accuracy = accuracy_score(y_test, y_pred)\n",
    "print(f'Accuracy: {accuracy:.2f}')\n"
   ]
  },
  {
   "cell_type": "code",
   "execution_count": null,
   "id": "e87559c8",
   "metadata": {},
   "outputs": [],
   "source": [
    "pip install tensorflow"
   ]
  },
  {
   "cell_type": "code",
   "execution_count": null,
   "id": "8cd32166",
   "metadata": {},
   "outputs": [],
   "source": [
    "import tensorflow as tf\n",
    "# Load and preprocess the MNIST dataset\n",
    "(x_train, y_train), (x_test, y_test) = tf.keras.datasets.mnist.load_data()\n",
    "# print(x_train)\n",
    "# print('****')\n",
    "# print(x_test)\n",
    "x_train, x_test = x_train / 255.0, x_test / 255.0\n",
    "# print('****')\n",
    "# print(x_train)\n",
    "# print('****')\n",
    "# print(x_test)\n",
    "# Build the model\n",
    "model = tf.keras.models.Sequential([\n",
    "  tf.keras.layers.Flatten(input_shape=(28, 28)),\n",
    "  tf.keras.layers.Dense(128, activation='relu'),\n",
    "  tf.keras.layers.Dropout(0.2),\n",
    "  tf.keras.layers.Dense(10, activation='softmax')])\n",
    "# Compile the model\n",
    "model.compile(optimizer='adam',\n",
    "              loss='sparse_categorical_crossentropy',\n",
    "              metrics=['accuracy'])\n",
    "# Train the model\n",
    "model.fit(x_train, y_train, epochs=5)\n",
    "# Evaluate the model on the test set\n",
    "result = model.evaluate(x_test, y_test,return_dict=True)\n",
    "loss = result['loss']\n",
    "accuracy = result['accuracy']\n",
    "print('Loss: {:.4f}, Accuracy: {:.2f}'.format(round(float(loss), 4), round(float(accuracy), 2)))\n",
    "\n",
    "\n",
    "\n",
    "\n"
   ]
  },
  {
   "cell_type": "code",
   "execution_count": null,
   "id": "5dcf4635",
   "metadata": {},
   "outputs": [],
   "source": [
    "class BankAccount:\n",
    "    def __init__(self, balance):\n",
    "        self.__balance = balance  # private attribute\n",
    "    def get_balance(self):\n",
    "        return self.__balance\n",
    "    def set_balance(self, balance):\n",
    "        self.__balance = balance\n",
    "# Create a BankAccount object\n",
    "account = BankAccount(1000)\n",
    "# Try to access the balance directly\n",
    "print(account.__balance)  # Output: AttributeError: 'BankAccount' object has no attribute '__balance'\n",
    "# Use the get_balance method to access the balance\n",
    "\n"
   ]
  },
  {
   "cell_type": "code",
   "execution_count": null,
   "id": "5bccedd4",
   "metadata": {},
   "outputs": [],
   "source": [
    "print(account.get_balance())  # Output: 1000\n",
    "# Use the set_balance method to update the balance\n",
    "account.set_balance(2000)\n",
    "print(account.get_balance())  # Output: 2000"
   ]
  },
  {
   "cell_type": "code",
   "execution_count": null,
   "id": "f18dbd3b",
   "metadata": {},
   "outputs": [],
   "source": [
    "class Account:\n",
    "    def __init__(self, account_name):\n",
    "        self.account_name = account_name\n",
    "        self.amount = 0"
   ]
  },
  {
   "cell_type": "code",
   "execution_count": null,
   "id": "289b9366",
   "metadata": {},
   "outputs": [],
   "source": [
    "account_a = Account('John Wick')\n",
    "print(account_a.amount)"
   ]
  },
  {
   "cell_type": "code",
   "execution_count": null,
   "id": "8e6b815b",
   "metadata": {},
   "outputs": [],
   "source": [
    "class Account :\n",
    "    def __init__ (self, account_name) :\n",
    "        self.__account_name = account_name\n",
    "        self.__amount = 0\n",
    "    \n",
    "    def get_amount (self) :\n",
    "        return self.__amount"
   ]
  },
  {
   "cell_type": "code",
   "execution_count": null,
   "id": "685ff898",
   "metadata": {},
   "outputs": [],
   "source": [
    "account_b = Account(\"Michael Hello\")"
   ]
  },
  {
   "cell_type": "code",
   "execution_count": null,
   "id": "d8786010",
   "metadata": {},
   "outputs": [],
   "source": [
    "print(account_b)"
   ]
  },
  {
   "cell_type": "code",
   "execution_count": null,
   "id": "e9302413",
   "metadata": {},
   "outputs": [],
   "source": [
    "print(account_b.__amount)"
   ]
  },
  {
   "cell_type": "code",
   "execution_count": null,
   "id": "ca799d85",
   "metadata": {},
   "outputs": [],
   "source": [
    "print(account_b.get_amount())"
   ]
  },
  {
   "cell_type": "code",
   "execution_count": null,
   "id": "956677d9",
   "metadata": {},
   "outputs": [],
   "source": [
    "class BankAccount:\n",
    "    def __init__(self, balance):\n",
    "        self.__balance = balance\n",
    "    def get_balance(self):\n",
    "        return self.__balance\n",
    "    def deposit(self, amount):\n",
    "        self.__balance += amount\n",
    "    def withdraw(self, amount):\n",
    "        if self.__balance >= amount:\n",
    "            self.__balance -= amount\n",
    "            return True\n",
    "        else:\n",
    "            return False\n",
    "# Create a BankAccount object\n",
    "account = BankAccount(1000)\n",
    "# Use the deposit and withdraw methods to manage the balance\n",
    "account.deposit(500)\n",
    "print(account.get_balance())  # Output: 1500\n"
   ]
  },
  {
   "cell_type": "code",
   "execution_count": null,
   "id": "84b24f4d",
   "metadata": {},
   "outputs": [],
   "source": [
    "class Animal:\n",
    "    def __init__(self, name):\n",
    "        self.name = name\n",
    "    \n",
    "    def speak(self):\n",
    "        print(\"The animal makes a sound\")\n",
    "\n",
    "class Dog(Animal):\n",
    "    def speak(self):\n",
    "        print(\"The dog barks\")\n",
    "\n",
    "class Cat(Animal):\n",
    "    def speak(self):\n",
    "        print(\"The cat meows\")\n",
    "\n",
    "my_dog = Dog(\"Rex\")\n",
    "my_cat = Cat(\"Whiskers\")\n",
    "\n",
    "my_dog.speak()  # Output: The dog barks\n",
    "my_cat.speak()  # Output: The cat meows\n"
   ]
  },
  {
   "cell_type": "code",
   "execution_count": null,
   "id": "ac2fcc23",
   "metadata": {},
   "outputs": [],
   "source": [
    "print(my_dog.name)"
   ]
  },
  {
   "cell_type": "code",
   "execution_count": null,
   "id": "d5579833",
   "metadata": {},
   "outputs": [],
   "source": [
    "class Animal:\n",
    "    def __init__(self, species):\n",
    "        self.species = species\n",
    "    def make_sound(self):\n",
    "        print(\"Some generic animal sound\")\n",
    "class Dog(Animal):\n",
    "    def make_sound(self):\n",
    "        print(\"Bark!\")\n",
    "class Cat(Animal):\n",
    "    def make_sound(self):\n",
    "        print(\"Meow!\")\n",
    "# Create a list of Animal objects\n",
    "animals = [Animal(\"bird\"), Dog(\"dog\"), Cat(\"cat\")]\n",
    "# Call the make_sound method on each object\n",
    "for animal in animals:\n",
    "    animal.make_sound()\n",
    "# Output:\n",
    "# Some generic animal sound\n",
    "# Bark!\n",
    "# Meow!\n"
   ]
  },
  {
   "cell_type": "code",
   "execution_count": null,
   "id": "eb8159c3",
   "metadata": {},
   "outputs": [],
   "source": [
    "class Animal:\n",
    "    def speak(self):\n",
    "        print(\"This animal makes a sound.\")\n",
    "class Dog(Animal):\n",
    "    def speak(self):\n",
    "        print(\"This dog barks.\")\n",
    "class Cat(Animal):\n",
    "    def speak(self):\n",
    "        print(\"This cat meows.\")\n",
    "a = Animal()\n",
    "d = Dog()\n",
    "c = Cat()\n",
    "a.speak()  # Output: This animal makes a sound.\n",
    "d.speak()  # Output: This dog barks.\n",
    "c.speak()  # Output: This cat meows.\n",
    "\n"
   ]
  },
  {
   "cell_type": "code",
   "execution_count": null,
   "id": "b9a7aaec",
   "metadata": {},
   "outputs": [],
   "source": [
    "class MyClass:\n",
    "    def my_method(self, arg1, arg2=None):\n",
    "        if arg2 is None:\n",
    "            print(\"Method with one argument:\", arg1)\n",
    "        else:\n",
    "            print(\"Method with two arguments:\", arg1, arg2)\n",
    "obj = MyClass()\n",
    "obj.my_method(\"hello\")       # Output: Method with one argument: hello\n",
    "obj.my_method(\"hello\", 123)  # Output: Method with two arguments: hello 123\n"
   ]
  },
  {
   "cell_type": "code",
   "execution_count": null,
   "id": "c657d8cc",
   "metadata": {},
   "outputs": [],
   "source": [
    "# Divide by zero error\n",
    "try:\n",
    "    x = 1 / 0\n",
    "except ZeroDivisionError:\n",
    "    print(\"Cannot divide by zero\")\n",
    "\n",
    "# Index out of range error\n",
    "try:\n",
    "    lst = [1, 2, 3]\n",
    "    print(lst[3])\n",
    "except IndexError:\n",
    "    print(\"Index out of range\")\n",
    "\n"
   ]
  },
  {
   "cell_type": "code",
   "execution_count": null,
   "id": "581dc917",
   "metadata": {},
   "outputs": [],
   "source": [
    "def check_password(password):\n",
    "    if len(password) < 8:\n",
    "        raise ValueError(\"Password must be at least 8 characters long\")\n",
    "\n",
    "# Try a password that is too short\n",
    "try:\n",
    "    check_password(\"abc123\")\n",
    "except ValueError as e:\n",
    "    print(e)  # Output: Password must be at least 8 characters long\n"
   ]
  },
  {
   "cell_type": "code",
   "execution_count": null,
   "id": "56770757",
   "metadata": {},
   "outputs": [],
   "source": [
    "class PasswordTooShortError(Exception):\n",
    "    def __init__(self, password):\n",
    "        self.password = password\n",
    "\n",
    "def check_password(password):\n",
    "    if len(password) < 8:\n",
    "        raise PasswordTooShortError(password)\n",
    "\n",
    "# Try a password that is too short\n",
    "try:\n",
    "    check_password(\"abc123\")\n",
    "except PasswordTooShortError as e:\n",
    "    print(f\"Password '{e.password}' is too short\")  # Output: Password 'abc123' is too short\n"
   ]
  },
  {
   "cell_type": "code",
   "execution_count": null,
   "id": "a55a60d7",
   "metadata": {
    "scrolled": true
   },
   "outputs": [],
   "source": [
    "try:\n",
    "    x = 1 / 0\n",
    "    lst = [1, 2, 3]\n",
    "    print(lst[3])\n",
    "except ZeroDivisionError:\n",
    "    print(\"Cannot divide by zero\")\n",
    "except IndexError:\n",
    "    print(\"Index out of range\")\n",
    "# Catch all exceptions\n",
    "try:\n",
    "    x = 1 / 0\n",
    "    lst = [1, 2, 3]\n",
    "    print(lst[3])\n",
    "except Exception as e:\n",
    "    print(f\"An error occurred: {e}\")\n"
   ]
  },
  {
   "cell_type": "code",
   "execution_count": null,
   "id": "12c02f70",
   "metadata": {},
   "outputs": [],
   "source": [
    "try:\n",
    "    x = 1 / 0\n",
    "    lst = [1, 2, 3]\n",
    "    print(lst[3])\n",
    "except (ZeroDivisionError, IndexError) as e:\n",
    "    print(f\"An error occurred: {e}\")\n"
   ]
  },
  {
   "cell_type": "code",
   "execution_count": null,
   "id": "d5f405d3",
   "metadata": {},
   "outputs": [],
   "source": [
    "# open a file\n",
    "try: \n",
    "    f = open(\"test.txt\",\"r\")\n",
    "    # perform some actions with the file\n",
    "    file_contents = f.read()\n",
    "    print(file_contents)\n",
    "finally: \n",
    "    # close the file even if an exception occurs\n",
    "    f.close()"
   ]
  },
  {
   "cell_type": "code",
   "execution_count": null,
   "id": "97ca6f19",
   "metadata": {},
   "outputs": [],
   "source": [
    "import unittest\n",
    "\n",
    "def multiply(a, b):\n",
    "    return a * b\n",
    "\n",
    "class TestMultiply(unittest.TestCase):\n",
    "    def test_multiply(self):\n",
    "        self.assertEqual(multiply(2, 3), 6)\n",
    "        self.assertEqual(multiply(0, 10), 0)\n",
    "        self.assertEqual(multiply(-5, 7), -35)\n"
   ]
  },
  {
   "cell_type": "code",
   "execution_count": null,
   "id": "2ef59a18",
   "metadata": {},
   "outputs": [],
   "source": [
    "import unittest\n",
    "import time\n",
    "\n",
    "def add(x, y):\n",
    "    return x + y\n",
    "\n",
    "class TestAdd(unittest.TestCase):\n",
    "    def test_add(self):\n",
    "        start_time = time.time()\n",
    "        self.assertEqual(add(1, 2), 3)\n",
    "        end_time = time.time()\n",
    "        print(f\"TestAdd.test_add runtime: {end_time - start_time} seconds\")\n",
    "\n",
    "\n"
   ]
  },
  {
   "cell_type": "code",
   "execution_count": null,
   "id": "9803bb71",
   "metadata": {},
   "outputs": [],
   "source": [
    "import unittest\n",
    "\n",
    "def multiply(a, b):\n",
    "    return a * b\n",
    "\n",
    "class TestMultiply(unittest.TestCase):\n",
    "    def test_multiply(self):\n",
    "        self.assertEqual(multiply(2, 3), 6)\n",
    "        self.assertEqual(multiply(0, 10), 0)\n",
    "        self.assertEqual(multiply(-5, 7), -35)\n",
    "        # Intentional failure to show that unittest is working\n",
    "        self.assertEqual(multiply(4, 5), 21)\n",
    "\n",
    "unittest.main(argv=['first-arg-is-ignored'], exit=False)\n"
   ]
  },
  {
   "cell_type": "code",
   "execution_count": null,
   "id": "72023540",
   "metadata": {},
   "outputs": [],
   "source": [
    "import unittest\n",
    "from calculator import Calculator\n",
    "class TestCalculator(unittest.TestCase):\n",
    "\n",
    "    def test_add(self):\n",
    "        c = Calculator()\n",
    "        result = c.add(3, 5)\n",
    "        self.assertEqual(result, 8)\n",
    "\n",
    "    def test_subtract(self):\n",
    "        c = Calculator()\n",
    "        result = c.subtract(5, 2)\n",
    "        self.assertEqual(result, 3)\n"
   ]
  },
  {
   "cell_type": "code",
   "execution_count": null,
   "id": "05efceb0",
   "metadata": {},
   "outputs": [],
   "source": [
    "###python -m unittest test_calculator.py in anaconda prompt\n",
    "#But do not forget to download calculator.py and test_calculator.py "
   ]
  },
  {
   "cell_type": "code",
   "execution_count": null,
   "id": "accf4fbd",
   "metadata": {},
   "outputs": [],
   "source": [
    "def square(x):\n",
    "    return x ** 2\n",
    "\n",
    "# Assert that square(2) is equal to 4\n",
    "assert square(2) == 4, \"Error: square(2) should be 4\"\n",
    "print(\"square(2) passed assertion\")\n",
    "\n",
    "# Assert that square(3) is equal to 9\n",
    "assert square(3) == 9, \"Error: square(3) should be 9\"\n",
    "print(\"square(3) passed assertion\")\n",
    "\n",
    "# Assert that square(4) is equal to 16\n",
    "assert square(4) == 16, \"Error: square(4) should be 16\"\n",
    "print(\"square(4) passed assertion\")\n"
   ]
  },
  {
   "cell_type": "code",
   "execution_count": null,
   "id": "b8237289",
   "metadata": {},
   "outputs": [],
   "source": [
    "import pdb\n",
    "\n",
    "def factorial(n):\n",
    "    if n == 0:\n",
    "        return 1\n",
    "    else:\n",
    "        return n * factorial(n-1)\n",
    "\n",
    "# Debugging starts here\n",
    "pdb.set_trace()\n",
    "result = factorial(5)\n",
    "print(result)\n"
   ]
  },
  {
   "cell_type": "code",
   "execution_count": null,
   "id": "b10995ae",
   "metadata": {},
   "outputs": [],
   "source": [
    "# Handle a ZeroDivisionError exception\n",
    "try:\n",
    "    x = 1 / 0\n",
    "except ZeroDivisionError:\n",
    "    print(\"Cannot divide by zero\")\n",
    "# Catch all exceptions\n",
    "try:\n",
    "    x = 1 / 0\n",
    "    lst = [1, 2, 3]\n",
    "    print(lst[3])\n",
    "except Exception as e:\n",
    "    print(f\"An error occurred: {e}\")\n",
    "\n"
   ]
  }
 ],
 "metadata": {
  "kernelspec": {
   "display_name": "Python 3",
   "language": "python",
   "name": "python3"
  },
  "language_info": {
   "codemirror_mode": {
    "name": "ipython",
    "version": 3
   },
   "file_extension": ".py",
   "mimetype": "text/x-python",
   "name": "python",
   "nbconvert_exporter": "python",
   "pygments_lexer": "ipython3",
   "version": "3.10.4"
  }
 },
 "nbformat": 4,
 "nbformat_minor": 5
}
