{
 "cells": [
  {
   "cell_type": "code",
   "execution_count": null,
   "id": "563d158c",
   "metadata": {},
   "outputs": [],
   "source": [
    "# if-else statements allow you to execute different code blocks based on a condition\n",
    "x = 5\n",
    "if x > 0:\n",
    "    print(\"x is positive\")\n",
    "else:\n",
    "    print(\"x is negative\")  # prints \"x is positive\"\n",
    "\n",
    "# for loops allow you to iterate over a sequence of values\n",
    "for i in range(5):\n",
    "    print(i)  # prints 0, 1, 2, 3, 4\n"
   ]
  },
  {
   "cell_type": "code",
   "execution_count": 2,
   "id": "d2d09446",
   "metadata": {},
   "outputs": [
    {
     "name": "stdout",
     "output_type": "stream",
     "text": [
      "x is positive\n",
      "0\n",
      "1\n",
      "2\n",
      "3\n",
      "4\n"
     ]
    }
   ],
   "source": [
    "# if-else statements allow you to execute different code blocks based on a condition\n",
    "x = 5\n",
    "if x > 0:\n",
    "    print(\"x is positive\")\n",
    "else:\n",
    "    print(\"x is negative\")  # prints \"x is positive\"\n",
    "\n",
    "# while loops allow you to repeat a block of code until a condition is met\n",
    "i = 0\n",
    "while i < 5:\n",
    "    print(i)  # prints 0, 1, 2, 3, 4\n",
    "    i += 1\n",
    "\n"
   ]
  },
  {
   "cell_type": "code",
   "execution_count": null,
   "id": "4a2cb46d",
   "metadata": {},
   "outputs": [],
   "source": [
    "name = \"Dollaporn\"\n",
    "print(\"Hi,\", name)\n",
    "print(\"Hi, %s\" % format(name))\n",
    "print(\"Hi, %s\" % name)\n"
   ]
  },
  {
   "cell_type": "code",
   "execution_count": 14,
   "id": "aece3038",
   "metadata": {},
   "outputs": [
    {
     "name": "stdout",
     "output_type": "stream",
     "text": [
      "Hi, Dollaporn\ta = 2\n",
      "Hi, Dollaporn\tb = 5.68\n",
      "Hi, Dollaporn\ta = 2 b=5.68\n",
      "Hi, Dollaporn\tb =   5.68\n"
     ]
    }
   ],
   "source": [
    "a = 2\n",
    "b = 5.678\n",
    "print(\"Hi, %s\ta = %d\" % (name, a))\n",
    "print(\"Hi, %s\tb = %.2f\" % (name, b))\n",
    "print(\"Hi, %s\ta = %d b=%.2f\" % (name, a, b))\n",
    "print(\"Hi, %s\tb = %6.2f\" % (name, b))\n"
   ]
  },
  {
   "cell_type": "code",
   "execution_count": 16,
   "id": "137b9f33",
   "metadata": {},
   "outputs": [
    {
     "name": "stdout",
     "output_type": "stream",
     "text": [
      "Hi, Dollaporn Pi = 3.142\n",
      "Hi, Dollaporn Pi =  3.142\n"
     ]
    }
   ],
   "source": [
    "import math\n",
    "print(\"Hi, %s Pi = %.3f\" % (name, math.pi))\n",
    "print(\"Hi, %s Pi = %6.3f\" % (name, math.pi))\n",
    "\n"
   ]
  },
  {
   "cell_type": "code",
   "execution_count": 20,
   "id": "057c211a",
   "metadata": {},
   "outputs": [
    {
     "name": "stdout",
     "output_type": "stream",
     "text": [
      "a = 2\n",
      "Hi Dollaporn 5.7\n"
     ]
    }
   ],
   "source": [
    "print('a = {}' . format(a))\n",
    "print('Hi {} {:.1f}' . format(name, b))\n",
    "\n"
   ]
  },
  {
   "cell_type": "code",
   "execution_count": 24,
   "id": "dbb68f8c",
   "metadata": {},
   "outputs": [
    {
     "name": "stdout",
     "output_type": "stream",
     "text": [
      "Area = 16\n",
      "Area =  16\n"
     ]
    }
   ],
   "source": [
    "def area(length):\n",
    "\tarea = length*length\n",
    "\treturn area\n",
    "\n",
    "b = area(4)\n",
    "print('Area = %d' % (b))\n",
    "print('Area = ', b)\n"
   ]
  },
  {
   "cell_type": "code",
   "execution_count": 32,
   "id": "cbf899dd",
   "metadata": {},
   "outputs": [
    {
     "name": "stdout",
     "output_type": "stream",
     "text": [
      "Area = 16\n",
      "Area =  16\n"
     ]
    }
   ],
   "source": [
    "def area(length):\n",
    "\tarea = length*length\n",
    "\treturn area\n",
    "\n",
    "if __name__ == '__main__':\n",
    "    b = area(4)\n",
    "print('Area = %d' % (b))\n",
    "print('Area = ', b)\n"
   ]
  },
  {
   "cell_type": "code",
   "execution_count": 33,
   "id": "abd3fc8a",
   "metadata": {},
   "outputs": [
    {
     "name": "stdout",
     "output_type": "stream",
     "text": [
      "8\n",
      "14\n"
     ]
    }
   ],
   "source": [
    "cal = lambda x: x * 2\n",
    "\n",
    "a = cal(4)\n",
    "print(a)\n",
    "\n",
    "b = cal(7)\n",
    "print(b)\n"
   ]
  },
  {
   "cell_type": "code",
   "execution_count": 34,
   "id": "b33e39d6",
   "metadata": {},
   "outputs": [
    {
     "name": "stdout",
     "output_type": "stream",
     "text": [
      "Area = 16\n",
      "Area =  16\n"
     ]
    }
   ],
   "source": [
    "def power(val):\n",
    "\tpower = val*val\n",
    "\treturn power\n",
    "\n",
    "b = power(4)\n",
    "print('Area = %d' % (b))\n",
    "print('Area = ', b)\n"
   ]
  },
  {
   "cell_type": "code",
   "execution_count": 1,
   "id": "1ebbbaa5",
   "metadata": {},
   "outputs": [
    {
     "name": "stdout",
     "output_type": "stream",
     "text": [
      "16\n",
      "49\n"
     ]
    }
   ],
   "source": [
    "pow = lambda x: x * x\n",
    "\n",
    "a = pow(4)\n",
    "print(a)\n",
    "\n",
    "b = pow(7)\n",
    "print(b)\n"
   ]
  },
  {
   "cell_type": "code",
   "execution_count": 37,
   "id": "5172a233",
   "metadata": {},
   "outputs": [
    {
     "data": {
      "text/plain": [
       "list"
      ]
     },
     "execution_count": 37,
     "metadata": {},
     "output_type": "execute_result"
    }
   ],
   "source": [
    "data = [2,1,3,4,5,6,3]\n",
    "data\n",
    "\n",
    "lst = ['kobkiat',2,5,8.5]\n",
    "lst\n",
    "\n",
    "type(data)\n"
   ]
  },
  {
   "cell_type": "code",
   "execution_count": 38,
   "id": "03cc98bd",
   "metadata": {},
   "outputs": [
    {
     "data": {
      "text/plain": [
       "[2, 1, 3, 4, 5, 6, 3, 20]"
      ]
     },
     "execution_count": 38,
     "metadata": {},
     "output_type": "execute_result"
    }
   ],
   "source": [
    "data.append(20)\n",
    "data\n"
   ]
  }
 ],
 "metadata": {
  "kernelspec": {
   "display_name": "Python 3",
   "language": "python",
   "name": "python3"
  },
  "language_info": {
   "codemirror_mode": {
    "name": "ipython",
    "version": 3
   },
   "file_extension": ".py",
   "mimetype": "text/x-python",
   "name": "python",
   "nbconvert_exporter": "python",
   "pygments_lexer": "ipython3",
   "version": "3.6.13"
  }
 },
 "nbformat": 4,
 "nbformat_minor": 5
}
